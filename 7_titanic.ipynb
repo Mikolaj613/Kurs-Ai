{
  "nbformat": 4,
  "nbformat_minor": 0,
  "metadata": {
    "colab": {
      "provenance": [],
      "authorship_tag": "ABX9TyOeuHBx06rY0/8w7LYwqIk3",
      "include_colab_link": true
    },
    "kernelspec": {
      "name": "python3",
      "display_name": "Python 3"
    },
    "language_info": {
      "name": "python"
    }
  },
  "cells": [
    {
      "cell_type": "markdown",
      "metadata": {
        "id": "view-in-github",
        "colab_type": "text"
      },
      "source": [
        "<a href=\"https://colab.research.google.com/github/Mikolaj613/Kurs-Ai/blob/main/7_titanic.ipynb\" target=\"_parent\"><img src=\"https://colab.research.google.com/assets/colab-badge.svg\" alt=\"Open In Colab\"/></a>"
      ]
    },
    {
      "cell_type": "code",
      "execution_count": 12,
      "metadata": {
        "id": "x7yH6jw5Jy6Z"
      },
      "outputs": [],
      "source": [
        "import seaborn as sns\n",
        "import pandas as pd\n",
        "import matplotlib.pyplot as plt\n",
        "import numpy as np\n",
        "from scipy import stats\n",
        "from sklearn.model_selection import train_test_split\n",
        "from sklearn.preprocessing import StandardScaler\n",
        "from sklearn.linear_model import LogisticRegression\n",
        "from sklearn.metrics import accuracy_score, classification_report, confusion_matrix"
      ]
    },
    {
      "cell_type": "code",
      "source": [
        "df = sns.load_dataset(\"titanic\")\n",
        "print(f\"pierwsze 10 wpisow z titanic\")\n",
        "print(df.head(10))"
      ],
      "metadata": {
        "colab": {
          "base_uri": "https://localhost:8080/"
        },
        "id": "22maPyTfK3FD",
        "outputId": "aa811468-a89d-4cee-c0ec-a7952dbd327d"
      },
      "execution_count": 13,
      "outputs": [
        {
          "output_type": "stream",
          "name": "stdout",
          "text": [
            "pierwsze 10 wpisow z titanic\n",
            "   survived  pclass     sex   age  sibsp  parch     fare embarked   class  \\\n",
            "0         0       3    male  22.0      1      0   7.2500        S   Third   \n",
            "1         1       1  female  38.0      1      0  71.2833        C   First   \n",
            "2         1       3  female  26.0      0      0   7.9250        S   Third   \n",
            "3         1       1  female  35.0      1      0  53.1000        S   First   \n",
            "4         0       3    male  35.0      0      0   8.0500        S   Third   \n",
            "5         0       3    male   NaN      0      0   8.4583        Q   Third   \n",
            "6         0       1    male  54.0      0      0  51.8625        S   First   \n",
            "7         0       3    male   2.0      3      1  21.0750        S   Third   \n",
            "8         1       3  female  27.0      0      2  11.1333        S   Third   \n",
            "9         1       2  female  14.0      1      0  30.0708        C  Second   \n",
            "\n",
            "     who  adult_male deck  embark_town alive  alone  \n",
            "0    man        True  NaN  Southampton    no  False  \n",
            "1  woman       False    C    Cherbourg   yes  False  \n",
            "2  woman       False  NaN  Southampton   yes   True  \n",
            "3  woman       False    C  Southampton   yes  False  \n",
            "4    man        True  NaN  Southampton    no   True  \n",
            "5    man        True  NaN   Queenstown    no   True  \n",
            "6    man        True    E  Southampton    no   True  \n",
            "7  child       False  NaN  Southampton    no  False  \n",
            "8  woman       False  NaN  Southampton   yes  False  \n",
            "9  child       False  NaN    Cherbourg   yes  False  \n"
          ]
        }
      ]
    },
    {
      "cell_type": "code",
      "source": [
        "print(f\"liczba braku wartosci przed czysczeniem\")\n",
        "print(df.isnull().sum())"
      ],
      "metadata": {
        "colab": {
          "base_uri": "https://localhost:8080/"
        },
        "id": "744y8zZaMK46",
        "outputId": "40903965-cd1f-452e-a796-bec865e48dac"
      },
      "execution_count": 14,
      "outputs": [
        {
          "output_type": "stream",
          "name": "stdout",
          "text": [
            "liczba braku wartosci przed czysczeniem\n",
            "survived         0\n",
            "pclass           0\n",
            "sex              0\n",
            "age            177\n",
            "sibsp            0\n",
            "parch            0\n",
            "fare             0\n",
            "embarked         2\n",
            "class            0\n",
            "who              0\n",
            "adult_male       0\n",
            "deck           688\n",
            "embark_town      2\n",
            "alive            0\n",
            "alone            0\n",
            "dtype: int64\n"
          ]
        }
      ]
    },
    {
      "cell_type": "code",
      "source": [
        "df=df.dropna(subset=['age'])\n",
        "print(f\"liczba braku wartosci po czysczeniu dla wieku\")\n",
        "print(df.isnull().sum())"
      ],
      "metadata": {
        "colab": {
          "base_uri": "https://localhost:8080/"
        },
        "id": "IhzOMbSjMomF",
        "outputId": "e8a4b97d-87ee-40ad-c84e-5fa41ef1fa22"
      },
      "execution_count": 15,
      "outputs": [
        {
          "output_type": "stream",
          "name": "stdout",
          "text": [
            "liczba braku wartosci po czysczeniu dla wieku\n",
            "survived         0\n",
            "pclass           0\n",
            "sex              0\n",
            "age              0\n",
            "sibsp            0\n",
            "parch            0\n",
            "fare             0\n",
            "embarked         2\n",
            "class            0\n",
            "who              0\n",
            "adult_male       0\n",
            "deck           530\n",
            "embark_town      2\n",
            "alive            0\n",
            "alone            0\n",
            "dtype: int64\n"
          ]
        }
      ]
    },
    {
      "cell_type": "code",
      "source": [
        "print(f\"min bilet : {df['fare'].min()}\")\n",
        "print(f\"max bilet : {df['fare'].max()}\")\n",
        "\n",
        "def categorize_fare(fare,fare_range):\n",
        "  if fare<=fare_range[0]:\n",
        "    return 0\n",
        "  elif fare<=fare_range[1]:\n",
        "    return 1\n",
        "  else:\n",
        "    return 2\n",
        "  pass\n",
        "\n",
        "min_fare = df['fare'].min()\n",
        "max_fare = df['fare'].max()\n",
        "fare_step = (max_fare-min_fare)/3\n",
        "fare_ranges = [min_fare+fare_step, min_fare+2*fare_step]\n",
        "\n",
        "print(f\"przdzialy cen biletów:\")\n",
        "print(f\"niska {min_fare:.2f}-{fare_ranges[0]:.2f}\")\n",
        "print(f\"srednia {fare_ranges[0]:.2f}-{fare_ranges[1]:.2f}\")\n",
        "print(f\"wysoka {fare_ranges[1]:.2} - {max_fare:.2f}\")"
      ],
      "metadata": {
        "colab": {
          "base_uri": "https://localhost:8080/"
        },
        "id": "aIsElJb3NPZd",
        "outputId": "48abb4d3-90d7-4ecf-9115-afda3446c66a"
      },
      "execution_count": 28,
      "outputs": [
        {
          "output_type": "stream",
          "name": "stdout",
          "text": [
            "min bilet : 0.0\n",
            "max bilet : 512.3292\n",
            "przdzialy cen biletów:\n",
            "niska 0.00-170.78\n",
            "srednia 170.78-341.55\n",
            "wysoka 3.4e+02 - 512.33\n"
          ]
        }
      ]
    },
    {
      "cell_type": "code",
      "source": [
        "selected_features = [\"sex\",\"age\",\"pclass\",\"fare_category\"]\n",
        "df_model = df.copy()\n",
        "df_model[\"sex\"] = df_model[\"sex\"].map({\"male\":0,\"female\":1})\n",
        "df_model[\"fare_category\"] = df_model[\"fare\"].apply(lambda x: categorize_fare(x, fare_ranges))\n",
        "print(df_model.groupby([\"fare_category\"]).count())\n"
      ],
      "metadata": {
        "colab": {
          "base_uri": "https://localhost:8080/"
        },
        "id": "dofW0bi5Qf9y",
        "outputId": "df7448d8-eaf2-4b8f-b6f3-5966f161c4d0"
      },
      "execution_count": 31,
      "outputs": [
        {
          "output_type": "stream",
          "name": "stdout",
          "text": [
            "               survived  pclass  sex  age  sibsp  parch  fare  embarked  \\\n",
            "fare_category                                                             \n",
            "0                   696     696  696  696    696    696   696       694   \n",
            "1                    15      15   15   15     15     15    15        15   \n",
            "2                     3       3    3    3      3      3     3         3   \n",
            "\n",
            "               class  who  adult_male  deck  embark_town  alive  alone  \n",
            "fare_category                                                           \n",
            "0                696  696         696   168          694    696    696  \n",
            "1                 15   15          15    14           15     15     15  \n",
            "2                  3    3           3     2            3      3      3  \n"
          ]
        }
      ]
    },
    {
      "cell_type": "code",
      "source": [
        "x = df_model[selected_features]\n",
        "y = df_model[\"survived\"]\n",
        "\n",
        "x_train, x_test, y_train, y_test = train_test_split(x,y, test_size=0.2, random_state=42)"
      ],
      "metadata": {
        "id": "aB9mOv8FVZQR"
      },
      "execution_count": 33,
      "outputs": []
    },
    {
      "cell_type": "code",
      "source": [
        "scaler = StandardScaler()\n",
        "x_train_scaled = scaler.fit_transform(x_train)\n",
        "x_test_scaled = scaler.transform(x_test)"
      ],
      "metadata": {
        "id": "G9LxhkgiWmVn"
      },
      "execution_count": 34,
      "outputs": []
    },
    {
      "cell_type": "code",
      "source": [
        "model = LogisticRegression()\n",
        "model.fit(x_train_scaled, y_train)\n",
        "\n",
        "y_pred = model.predict(x_test_scaled)\n",
        "print(y_pred)\n",
        "\n",
        "accuracy = accuracy_score(y_test, y_pred)\n",
        "\n",
        "print(f\"Dokładność modelu: {accuracy:.3f}\")\n",
        "conf_matrix = confusion_matrix(y_test, y_pred)\n",
        "print(conf_matrix)\n",
        "sns.heatmap(conf_matrix,\n",
        "            annot=True,\n",
        "            cmap=\"Blues\",\n",
        "            xticklabels = [\"Nie przeżył\", \"Przeżył\"],\n",
        "            yticklabels = [\"Nie przeżył\", \"Przeżył\"])\n",
        "plt.title(\"Macierz błędów\")\n",
        "plt.xlabel(\"Przewidywane\")\n",
        "plt.ylabel(\"Rzeczywiste\")\n",
        "plt.tight_layout()\n",
        "plt.show()"
      ],
      "metadata": {
        "colab": {
          "base_uri": "https://localhost:8080/",
          "height": 609
        },
        "id": "0zFcEkBVIL9M",
        "outputId": "647be16b-4ae1-40d5-92e8-1786e43b8d14"
      },
      "execution_count": 35,
      "outputs": [
        {
          "output_type": "stream",
          "name": "stdout",
          "text": [
            "[0 0 1 1 0 0 1 1 1 1 1 1 1 0 1 0 0 1 0 1 1 1 1 0 0 0 0 0 1 0 1 1 0 0 0 0 0\n",
            " 0 0 0 0 0 1 0 0 1 1 1 0 1 0 1 1 0 0 1 1 0 0 0 1 0 1 0 0 0 0 1 0 0 0 1 0 0\n",
            " 0 0 0 0 1 1 1 1 0 0 0 1 1 0 0 0 0 1 1 0 1 1 1 1 0 0 1 1 0 1 1 0 0 0 0 1 0\n",
            " 0 0 0 0 1 0 1 0 0 1 0 0 0 1 0 0 1 0 1 0 0 0 1 0 0 0 0 0 0 0 1 1]\n",
            "Dokładność modelu: 0.741\n",
            "[[68 19]\n",
            " [18 38]]\n"
          ]
        },
        {
          "output_type": "display_data",
          "data": {
            "text/plain": [
              "<Figure size 640x480 with 2 Axes>"
            ],
            "image/png": "[encoded data removed]"
          },
          "metadata": {}
        }
      ]
    },
    {
      "cell_type": "code",
      "source": [
        "tn,tp,fn,fp = conf_matrix.ravel()\n",
        "sensivity = tp/(tp+fn)\n",
        "precision = tp/(tp+fp)\n",
        "f1 = 2 * (sensivity * precision) / (sensivity + precision)\n",
        "\n",
        "print(f\"czulość: {sensivity:.3f}\")\n",
        "print(f\"precyzja: {precision:.3f}\")\n",
        "print(f\"F1-score: {f1:3f}\")"
      ],
      "metadata": {
        "colab": {
          "base_uri": "https://localhost:8080/"
        },
        "id": "Fi4e-CyJN41i",
        "outputId": "639c046d-c0ee-450a-e6be-404260b7aeed"
      },
      "execution_count": 36,
      "outputs": [
        {
          "output_type": "stream",
          "name": "stdout",
          "text": [
            "czulość: 0.514\n",
            "precyzja: 0.333\n",
            "F1-score: 0.404255\n"
          ]
        }
      ]
    },
    {
      "cell_type": "code",
      "source": [
        "while True:\n",
        "  print(f\"prognoza przezycia dla nowego pasażera\")\n",
        "  print(\"(wpisz 'koniec', aby zakończyć)\")\n",
        "\n",
        "  sex_input= input(\"podaj płeć (m/k): \").lower()\n",
        "  if sex_input == \"koniec\":\n",
        "    break\n",
        "  sex = 1 if sex_input == \"k\" else 0\n",
        "\n",
        "  age_input=input(\"podaj wiek: \")\n",
        "  if age_input == \"koniec\":\n",
        "    break\n",
        "  age = int(age_input)\n",
        "\n",
        "  pclass_input=input(\"podaj klasę (1/2/3): \")\n",
        "  if pclass_input == \"koniec\":\n",
        "    break\n",
        "  pclass = int(pclass_input)\n",
        "\n",
        "  fare_input = input(\"podaj cenę biletu: \")\n",
        "  if fare_input == \"koniec\":\n",
        "    break\n",
        "  fare = float(fare_input)\n",
        "\n",
        "  fare_category = categorize_fare(fare, fare_ranges)\n",
        "\n",
        "  new_passenger = pd.DataFrame({\"sex\":[sex], \"age\":[age], \"pclass\":[pclass], \"fare_category\":[fare_category]})\n",
        "\n",
        "  new_passenger_scaled = scaler.transform(new_passenger)\n",
        "  pred = model.predict(new_passenger_scaled)\n",
        "  proba = model.predict_proba(new_passenger_scaled)\n",
        "\n",
        "  print(f\"przeżył:\" + \"Tak\" if pred[0] == 1 else \"Nie\")\n",
        "  print(f\"prawdopodobienstwo przeżycia: {proba[0][1]:.2f}\")\n",
        "  pass\n",
        "print(\"koniec programu\")"
      ],
      "metadata": {
        "colab": {
          "base_uri": "https://localhost:8080/"
        },
        "id": "ttSgj8qwQAnu",
        "outputId": "f8835835-51f7-4cb6-8f70-91240aa77da0"
      },
      "execution_count": null,
      "outputs": [
        {
          "output_type": "stream",
          "name": "stdout",
          "text": [
            "prognoza przezycia dla nowego pasażera\n",
            "(wpisz 'koniec', aby zakończyć)\n"
          ]
        }
      ]
    }
  ]
}