{
  "nbformat": 4,
  "nbformat_minor": 0,
  "metadata": {
    "colab": {
      "provenance": [],
      "authorship_tag": "ABX9TyN4b95bUvEpoARycnx6himP",
      "include_colab_link": true
    },
    "kernelspec": {
      "name": "python3",
      "display_name": "Python 3"
    },
    "language_info": {
      "name": "python"
    }
  },
  "cells": [
    {
      "cell_type": "markdown",
      "metadata": {
        "id": "view-in-github",
        "colab_type": "text"
      },
      "source": [
        "<a href=\"https://colab.research.google.com/github/Mikolaj613/Kurs-Ai/blob/main/bayes_klasyfikacja_maili.ipynb\" target=\"_parent\"><img src=\"https://colab.research.google.com/assets/colab-badge.svg\" alt=\"Open In Colab\"/></a>"
      ]
    },
    {
      "cell_type": "code",
      "execution_count": 6,
      "metadata": {
        "id": "X-RFepJfskK7"
      },
      "outputs": [],
      "source": [
        "import json, random, math\n",
        "from pprint import pprint\n",
        "\n",
        "def load_email_data(spam_path, ham_path):\n",
        "  spam_data = None\n",
        "  ham_data = None\n",
        "  with open(spam_path, encoding=\"utf-8\") as spma_fille, open(ham_path, encoding=\"utf-8\") as ham_file:\n",
        "    spam_data = json.load(spma_fille)\n",
        "    ham_data = json.load(ham_file)\n",
        "  return spam_data + ham_data\n",
        "\n",
        "def clean_data(data):\n",
        "  for email in data:\n",
        "    email[\"text\"] = email[\"text\"].lower().replace(\"-\",\"\").replace(\"?\",\"\")\\\n",
        "      .replace(\"!\",\"\").replace(\".\",\"\").replace(\",\",\"\").replace(\"-\",\"\")\n",
        "  return data"
      ]
    },
    {
      "cell_type": "code",
      "source": [
        "def main():\n",
        "  data = load_email_data(\"spam_emails.json\", \"ham_emails.json\")\n",
        "  data= clean_data(data)\n",
        "  pprint(data)\n",
        "  pass\n",
        "\n",
        "if __name__ == \"__main__\":\n",
        "  main()"
      ],
      "metadata": {
        "colab": {
          "base_uri": "https://localhost:8080/"
        },
        "id": "_vqvQWH0tk4c",
        "outputId": "4f4d62d5-697d-47ca-915d-126a26df4545"
      },
      "execution_count": 7,
      "outputs": [
        {
          "output_type": "stream",
          "name": "stdout",
          "text": [
            "[{'label': 'spam', 'text': 'zdobądź darmową kartę podarunkową już teraz'},\n",
            " {'label': 'spam', 'text': 'kliknij aby aktywować kupon rabatowy 100 zł'},\n",
            " {'label': 'spam', 'text': 'zostałeś wybrany do ekskluzywnego programu nagród'},\n",
            " {'label': 'spam', 'text': 'nowa metoda zarabiania bez inwestycji – sprawdź'},\n",
            " {'label': 'spam', 'text': 'twoja przesyłka czeka – potwierdź dane dostawy'},\n",
            " {'label': 'spam',\n",
            "  'text': 'wygraj zestaw najnowszych gadżetów technologicznych'},\n",
            " {'label': 'spam', 'text': 'dostęp do konta premium bez opłat – aktywuj teraz'},\n",
            " {'label': 'spam',\n",
            "  'text': 'wielka promocja na suplementy – kliknij aby zamówić'},\n",
            " {'label': 'spam', 'text': 'zarabiaj codziennie bez wychodzenia z domu'},\n",
            " {'label': 'spam', 'text': 'sprawdź ile możesz zyskać w naszej loterii'},\n",
            " {'label': 'spam', 'text': 'nie przegap szansy na darmowe zakupy'},\n",
            " {'label': 'spam', 'text': 'darmowa konsultacja finansowa – skorzystaj teraz'},\n",
            " {'label': 'spam', 'text': 'wybierz swój prezent i odbierz bezpłatnie'},\n",
            " {'label': 'spam', 'text': 'specjalna oferta dla pierwszych 100 osób'},\n",
            " {'label': 'spam', 'text': 'twój voucher czeka – kliknij aby odebrać'},\n",
            " {'label': 'spam',\n",
            "  'text': 'otrzymasz darmowy bilet na wydarzenie – zarejestruj się'},\n",
            " {'label': 'spam',\n",
            "  'text': 'nowa aplikacja która zarabia za ciebie – pobierz teraz'},\n",
            " {'label': 'spam',\n",
            "  'text': 'nie uwierzysz ile możesz zaoszczędzić z naszą ofertą'},\n",
            " {'label': 'spam', 'text': 'potwierdź udział i zgarnij cenną nagrodę'},\n",
            " {'label': 'spam',\n",
            "  'text': 'twoje dane są nieaktualne – zaktualizuj je natychmiast'},\n",
            " {'label': 'spam', 'text': 'kliknij aby potwierdzić zamówienie specjalne'},\n",
            " {'label': 'spam', 'text': 'unikalna oferta tylko dzisiaj – zarejestruj się'},\n",
            " {'label': 'spam', 'text': 'zgarnij 500 zł za wypełnienie krótkiej ankiety'},\n",
            " {'label': 'spam', 'text': 'nowy sposób na szybkie pomnożenie oszczędności'},\n",
            " {'label': 'spam', 'text': 'sprawdź swoją kwalifikację do grantu pieniężnego'},\n",
            " {'label': 'spam', 'text': 'pobierz darmową książkę o sukcesie finansowym'},\n",
            " {'label': 'spam', 'text': 'zainwestuj z nami i zwiększ swoje dochody'},\n",
            " {'label': 'spam', 'text': 'nowy konkurs z atrakcyjnymi nagrodami – dołącz'},\n",
            " {'label': 'spam', 'text': 'przetestuj produkt i zachowaj go na zawsze'},\n",
            " {'label': 'spam', 'text': 'wysyłamy darmowe próbki – wybierz swoją'},\n",
            " {'label': 'spam', 'text': 'wprowadź dane i odbierz nagrodę gwarantowaną'},\n",
            " {'label': 'spam', 'text': 'twoja opinia się liczy – odpowiedz i wygraj'},\n",
            " {'label': 'spam', 'text': 'niecodzienna promocja – odbierz telefon za 1 zł'},\n",
            " {'label': 'spam', 'text': 'darmowe ubezpieczenie zdrowotne – skorzystaj'},\n",
            " {'label': 'spam', 'text': 'natychmiastowy kredyt dostępny bez bik'},\n",
            " {'label': 'spam', 'text': 'twoja paczka nie mogła zostać doręczona – kliknij'},\n",
            " {'label': 'spam', 'text': 'kliknij tutaj by zaktualizować swój profil'},\n",
            " {'label': 'spam', 'text': 'zdobądź nowe źródło pasywnego dochodu'},\n",
            " {'label': 'spam', 'text': 'kliknij by poznać tajemnicę szybkiego wzbogacenia'},\n",
            " {'label': 'spam', 'text': 'ekskluzywna wyprzedaż – tylko dla subskrybentów'},\n",
            " {'label': 'spam', 'text': 'wygraj podróż życia z naszym konkursem'},\n",
            " {'label': 'spam', 'text': 'masz niezrealizowaną wypłatę – sprawdź konto'},\n",
            " {'label': 'spam', 'text': 'poznaj sekrety sukcesu milionerów – pobierz ebook'},\n",
            " {'label': 'spam', 'text': 'kliknij by skorzystać z rabatu 80%'},\n",
            " {'label': 'spam', 'text': 'nie trać czasu – aktywuj darmowy dostęp'},\n",
            " {'label': 'spam', 'text': 'ostatni etap rejestracji – odbierz nagrodę'},\n",
            " {'label': 'spam', 'text': 'zdobądź status vip i korzystaj z przywilejów'},\n",
            " {'label': 'spam', 'text': 'otrzymujesz priorytetowy dostęp do nowej usługi'},\n",
            " {'label': 'spam', 'text': 'twój numer został wylosowany – gratulacje'},\n",
            " {'label': 'spam', 'text': 'kliknij aby potwierdzić wygraną i odebrać nagrodę'},\n",
            " {'label': 'ham', 'text': 'cześć przypominam o jutrzejszym spotkaniu o 15:00'},\n",
            " {'label': 'ham',\n",
            "  'text': 'dziękuję za przesłane materiały wszystko wygląda dobrze'},\n",
            " {'label': 'ham', 'text': 'załączam fakturę za ostatni miesiąc'},\n",
            " {'label': 'ham', 'text': 'proszę o potwierdzenie otrzymania przesyłki'},\n",
            " {'label': 'ham', 'text': 'czy możesz przesłać mi wersję edytowalną dokumentu'},\n",
            " {'label': 'ham', 'text': 'spotkanie zostało przełożone na czwartek o 11:00'},\n",
            " {'label': 'ham', 'text': 'potrzebuję twojej opinii na temat nowego projektu'},\n",
            " {'label': 'ham',\n",
            "  'text': 'raport został zaktualizowany i jest gotowy do przeglądu'},\n",
            " {'label': 'ham', 'text': 'wysyłam listę uczestników jutrzejszego szkolenia'},\n",
            " {'label': 'ham', 'text': 'proszę o zatwierdzenie kosztorysu'},\n",
            " {'label': 'ham', 'text': 'dołączam harmonogram na przyszły tydzień'},\n",
            " {'label': 'ham', 'text': 'dziękuję za spotkanie – notatki w załączeniu'},\n",
            " {'label': 'ham', 'text': 'zgodnie z ustaleniami przesyłam propozycję umowy'},\n",
            " {'label': 'ham', 'text': 'potwierdzam swoją obecność na konferencji'},\n",
            " {'label': 'ham', 'text': 'czy masz chwilę na krótką rozmowę telefoniczną'},\n",
            " {'label': 'ham',\n",
            "  'text': 'zamówienie zostało przyjęte i wkrótce będzie realizowane'},\n",
            " {'label': 'ham', 'text': 'przypominam o terminie oddania dokumentów'},\n",
            " {'label': 'ham', 'text': 'twoja prośba została zaakceptowana'},\n",
            " {'label': 'ham',\n",
            "  'text': 'czy możemy przesunąć spotkanie na późniejszą godzinę'},\n",
            " {'label': 'ham', 'text': 'dziękuję za zaangażowanie w ostatnim projekcie'},\n",
            " {'label': 'ham', 'text': 'załączam podsumowanie wyników analizy'},\n",
            " {'label': 'ham', 'text': 'proszę o informację czy ten termin ci odpowiada'},\n",
            " {'label': 'ham',\n",
            "  'text': 'dokument został podpisany i przesłany do archiwizacji'},\n",
            " {'label': 'ham', 'text': 'wysyłam prezentację z wczorajszego spotkania'},\n",
            " {'label': 'ham', 'text': 'czy otrzymałeś już odpowiedź od klienta'},\n",
            " {'label': 'ham', 'text': 'przesyłam dane logowania do systemu'},\n",
            " {'label': 'ham', 'text': 'przepraszam za opóźnienie w odpowiedzi'},\n",
            " {'label': 'ham',\n",
            "  'text': 'zgłoszenie zostało przekazane do odpowiedniego działu'},\n",
            " {'label': 'ham', 'text': 'dziękujemy za skorzystanie z naszych usług'},\n",
            " {'label': 'ham', 'text': 'proszę o przygotowanie krótkiego podsumowania'},\n",
            " {'label': 'ham', 'text': 'załączam listę poprawek do uwzględnienia'},\n",
            " {'label': 'ham', 'text': 'notatki ze spotkania dostępne są w załączniku'},\n",
            " {'label': 'ham', 'text': 'proszę o informację zwrotną do końca dnia'},\n",
            " {'label': 'ham', 'text': 'projekt został zakończony pomyślnie'},\n",
            " {'label': 'ham', 'text': 'czy możemy zaplanować kolejne spotkanie'},\n",
            " {'label': 'ham', 'text': 'potwierdzam że wszystkie dane są poprawne'},\n",
            " {'label': 'ham', 'text': 'przesyłam dane do faktury za maj'},\n",
            " {'label': 'ham', 'text': 'dziękujemy za szybką reakcję'},\n",
            " {'label': 'ham', 'text': 'wysyłam link do spotkania online'},\n",
            " {'label': 'ham', 'text': 'proszę o przesłanie dokumentów do końca tygodnia'},\n",
            " {'label': 'ham', 'text': 'zamówienie zostało zrealizowane zgodnie z umową'},\n",
            " {'label': 'ham',\n",
            "  'text': 'informuję że serwis został wykonany zgodnie z harmonogramem'},\n",
            " {'label': 'ham', 'text': 'czy możesz sprawdzić ten dokument jeszcze raz'},\n",
            " {'label': 'ham', 'text': 'dziękuję za przesłane uwagi – zostały uwzględnione'},\n",
            " {'label': 'ham', 'text': 'proszę o potwierdzenie terminu spotkania'},\n",
            " {'label': 'ham', 'text': 'w załączeniu instrukcja użytkowania systemu'},\n",
            " {'label': 'ham', 'text': 'twoje konto zostało aktywowane'},\n",
            " {'label': 'ham', 'text': 'informujemy że zgłoszenie zostało zarejestrowane'},\n",
            " {'label': 'ham', 'text': 'raport będzie gotowy do końca tygodnia'},\n",
            " {'label': 'ham', 'text': 'proszę o przesłanie numeru referencyjnego'},\n",
            " {'label': 'ham', 'text': 'dziękuję za przesłanie umowy – wszystko się zgadza'}]\n"
          ]
        }
      ]
    }
  ]
}