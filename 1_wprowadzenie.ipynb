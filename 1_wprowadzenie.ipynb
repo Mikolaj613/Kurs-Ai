{
  "nbformat": 4,
  "nbformat_minor": 0,
  "metadata": {
    "colab": {
      "provenance": [],
      "authorship_tag": "ABX9TyOIA2eXy6Suo4/DeNQqMC/n",
      "include_colab_link": true
    },
    "kernelspec": {
      "name": "python3",
      "display_name": "Python 3"
    },
    "language_info": {
      "name": "python"
    }
  },
  "cells": [
    {
      "cell_type": "markdown",
      "metadata": {
        "id": "view-in-github",
        "colab_type": "text"
      },
      "source": [
        "<a href=\"https://colab.research.google.com/github/Mikolaj613/Kurs-Ai/blob/main/1_wprowadzenie.ipynb\" target=\"_parent\"><img src=\"https://colab.research.google.com/assets/colab-badge.svg\" alt=\"Open In Colab\"/></a>"
      ]
    },
    {
      "cell_type": "markdown",
      "source": [
        "# **Podstawowe elementy języka python.**\n",
        "*W tym rozdziale przedstawimy podstawowe elementy składni języka Python.*\n",
        "www.python.org\n",
        "## Omawiane elementy:\n",
        "1.   Zmienne\n",
        "2.   Listy\n",
        "3.   Pętle\n",
        "4.   Słowniki i krotki\n",
        "5.   Instrukcje warunkowe\n",
        "6.   Funkcje\n",
        "7.   Obsługa plików\n",
        "8.   Obsługa wyjątków\n",
        "\n",
        "\n",
        "\n",
        "\n",
        "\n",
        "\n",
        "\n",
        "\n",
        "\n",
        "\n"
      ],
      "metadata": {
        "id": "nlIPoN7G82Go"
      }
    },
    {
      "cell_type": "markdown",
      "source": [],
      "metadata": {
        "id": "N1iCnqxuI19W"
      }
    },
    {
      "cell_type": "markdown",
      "source": [
        "## konfiguracja repozytorium\n"
      ],
      "metadata": {
        "id": "fVcgE1saBFMH"
      }
    },
    {
      "cell_type": "code",
      "source": [
        "!git init"
      ],
      "metadata": {
        "colab": {
          "base_uri": "https://localhost:8080/"
        },
        "collapsed": true,
        "id": "jc6V_LMW-cIn",
        "outputId": "0186b006-236b-440c-a0a2-000d9449a67a"
      },
      "execution_count": null,
      "outputs": [
        {
          "output_type": "stream",
          "name": "stdout",
          "text": [
            "\u001b[33mhint: Using 'master' as the name for the initial branch. This default branch name\u001b[m\n",
            "\u001b[33mhint: is subject to change. To configure the initial branch name to use in all\u001b[m\n",
            "\u001b[33mhint: of your new repositories, which will suppress this warning, call:\u001b[m\n",
            "\u001b[33mhint: \u001b[m\n",
            "\u001b[33mhint: \tgit config --global init.defaultBranch <name>\u001b[m\n",
            "\u001b[33mhint: \u001b[m\n",
            "\u001b[33mhint: Names commonly chosen instead of 'master' are 'main', 'trunk' and\u001b[m\n",
            "\u001b[33mhint: 'development'. The just-created branch can be renamed via this command:\u001b[m\n",
            "\u001b[33mhint: \u001b[m\n",
            "\u001b[33mhint: \tgit branch -m <name>\u001b[m\n",
            "Initialized empty Git repository in /content/.git/\n"
          ]
        }
      ]
    },
    {
      "cell_type": "code",
      "source": [
        "!git config --global user.name \"Mikołaj\"\n",
        "!git config --global user.email \"mikolaj.rodek@gmail.com\"\n"
      ],
      "metadata": {
        "id": "AYyPfPAMCGQw"
      },
      "execution_count": null,
      "outputs": []
    },
    {
      "cell_type": "code",
      "source": [
        "!git add ."
      ],
      "metadata": {
        "id": "9bJWr2FOCkDI"
      },
      "execution_count": null,
      "outputs": []
    },
    {
      "cell_type": "code",
      "source": [
        "!git status\n"
      ],
      "metadata": {
        "colab": {
          "base_uri": "https://localhost:8080/"
        },
        "id": "5TQcSORzDDrw",
        "outputId": "586aeccc-2e41-4140-89b9-6daf942d617d"
      },
      "execution_count": null,
      "outputs": [
        {
          "output_type": "stream",
          "name": "stdout",
          "text": [
            "On branch master\n",
            "\n",
            "No commits yet\n",
            "\n",
            "Changes to be committed:\n",
            "  (use \"git rm --cached <file>...\" to unstage)\n",
            "\t\u001b[32mnew file:   .config/.last_opt_in_prompt.yaml\u001b[m\n",
            "\t\u001b[32mnew file:   .config/.last_survey_prompt.yaml\u001b[m\n",
            "\t\u001b[32mnew file:   .config/.last_update_check.json\u001b[m\n",
            "\t\u001b[32mnew file:   .config/active_config\u001b[m\n",
            "\t\u001b[32mnew file:   .config/config_sentinel\u001b[m\n",
            "\t\u001b[32mnew file:   .config/configurations/config_default\u001b[m\n",
            "\t\u001b[32mnew file:   .config/default_configs.db\u001b[m\n",
            "\t\u001b[32mnew file:   .config/gce\u001b[m\n",
            "\t\u001b[32mnew file:   .config/hidden_gcloud_config_universe_descriptor_data_cache_configs.db\u001b[m\n",
            "\t\u001b[32mnew file:   .config/logs/2025.02.20/14.23.09.448625.log\u001b[m\n",
            "\t\u001b[32mnew file:   .config/logs/2025.02.20/14.23.42.557542.log\u001b[m\n",
            "\t\u001b[32mnew file:   .config/logs/2025.02.20/14.23.54.466137.log\u001b[m\n",
            "\t\u001b[32mnew file:   .config/logs/2025.02.20/14.23.58.333263.log\u001b[m\n",
            "\t\u001b[32mnew file:   .config/logs/2025.02.20/14.24.10.539232.log\u001b[m\n",
            "\t\u001b[32mnew file:   .config/logs/2025.02.20/14.24.11.360033.log\u001b[m\n",
            "\t\u001b[32mnew file:   sample_data/README.md\u001b[m\n",
            "\t\u001b[32mnew file:   sample_data/anscombe.json\u001b[m\n",
            "\t\u001b[32mnew file:   sample_data/california_housing_test.csv\u001b[m\n",
            "\t\u001b[32mnew file:   sample_data/california_housing_train.csv\u001b[m\n",
            "\t\u001b[32mnew file:   sample_data/mnist_test.csv\u001b[m\n",
            "\t\u001b[32mnew file:   sample_data/mnist_train_small.csv\u001b[m\n",
            "\n"
          ]
        }
      ]
    },
    {
      "cell_type": "code",
      "source": [
        "!git commit -m \"inicjalizacja projektu\""
      ],
      "metadata": {
        "colab": {
          "base_uri": "https://localhost:8080/"
        },
        "id": "bWeCpSGzClku",
        "outputId": "23e89ccc-180d-4316-e523-860bb93e9b79"
      },
      "execution_count": null,
      "outputs": [
        {
          "output_type": "stream",
          "name": "stdout",
          "text": [
            "[master (root-commit) 5bc3a68] inicjalizacja projektu\n",
            " 21 files changed, 51023 insertions(+)\n",
            " create mode 100644 .config/.last_opt_in_prompt.yaml\n",
            " create mode 100644 .config/.last_survey_prompt.yaml\n",
            " create mode 100644 .config/.last_update_check.json\n",
            " create mode 100644 .config/active_config\n",
            " create mode 100644 .config/config_sentinel\n",
            " create mode 100644 .config/configurations/config_default\n",
            " create mode 100644 .config/default_configs.db\n",
            " create mode 100644 .config/gce\n",
            " create mode 100644 .config/hidden_gcloud_config_universe_descriptor_data_cache_configs.db\n",
            " create mode 100644 .config/logs/2025.02.20/14.23.09.448625.log\n",
            " create mode 100644 .config/logs/2025.02.20/14.23.42.557542.log\n",
            " create mode 100644 .config/logs/2025.02.20/14.23.54.466137.log\n",
            " create mode 100644 .config/logs/2025.02.20/14.23.58.333263.log\n",
            " create mode 100644 .config/logs/2025.02.20/14.24.10.539232.log\n",
            " create mode 100644 .config/logs/2025.02.20/14.24.11.360033.log\n",
            " create mode 100755 sample_data/README.md\n",
            " create mode 100755 sample_data/anscombe.json\n",
            " create mode 100644 sample_data/california_housing_test.csv\n",
            " create mode 100644 sample_data/california_housing_train.csv\n",
            " create mode 100644 sample_data/mnist_test.csv\n",
            " create mode 100644 sample_data/mnist_train_small.csv\n"
          ]
        }
      ]
    },
    {
      "cell_type": "code",
      "source": [
        "!git log\n"
      ],
      "metadata": {
        "colab": {
          "base_uri": "https://localhost:8080/"
        },
        "id": "Res8V4iBC1UN",
        "outputId": "fa31739c-3bf5-4273-d052-e2603b1534bb"
      },
      "execution_count": null,
      "outputs": [
        {
          "output_type": "stream",
          "name": "stdout",
          "text": [
            "\u001b[33mcommit 5bc3a68c4acba7b4d052f4b646e0cf570dc08438\u001b[m\u001b[33m (\u001b[m\u001b[1;36mHEAD -> \u001b[m\u001b[1;32mmaster\u001b[m\u001b[33m)\u001b[m\n",
            "Author: Mikołaj <mikolaj.rodek@gmail.com>\n",
            "Date:   Sat Feb 22 09:48:38 2025 +0000\n",
            "\n",
            "    inicjalizacja projektu\n"
          ]
        }
      ]
    },
    {
      "cell_type": "code",
      "source": [
        "!git branch -M main"
      ],
      "metadata": {
        "id": "9KEdjF-gD9uq"
      },
      "execution_count": null,
      "outputs": []
    },
    {
      "cell_type": "code",
      "source": [
        "!git log"
      ],
      "metadata": {
        "colab": {
          "base_uri": "https://localhost:8080/"
        },
        "id": "BrCwWILbEC99",
        "outputId": "20b13d66-192f-48d5-8b02-c8bdc3c0787b"
      },
      "execution_count": null,
      "outputs": [
        {
          "output_type": "stream",
          "name": "stdout",
          "text": [
            "\u001b[33mcommit 5bc3a68c4acba7b4d052f4b646e0cf570dc08438\u001b[m\u001b[33m (\u001b[m\u001b[1;36mHEAD -> \u001b[m\u001b[1;32mmain\u001b[m\u001b[33m)\u001b[m\n",
            "Author: Mikołaj <mikolaj.rodek@gmail.com>\n",
            "Date:   Sat Feb 22 09:48:38 2025 +0000\n",
            "\n",
            "    inicjalizacja projektu\n"
          ]
        }
      ]
    },
    {
      "cell_type": "code",
      "source": [
        "!git remote add origin https://<token>@github.com/Mikolaj613/Kurs-Ai.git"
      ],
      "metadata": {
        "id": "mTeLjVE2E9fU"
      },
      "execution_count": null,
      "outputs": []
    },
    {
      "cell_type": "code",
      "source": [
        "!git remote"
      ],
      "metadata": {
        "colab": {
          "base_uri": "https://localhost:8080/"
        },
        "id": "u1B6MO13FJpW",
        "outputId": "5318bbe6-f0bd-4d0b-9e2e-338b1ea97e33"
      },
      "execution_count": null,
      "outputs": [
        {
          "output_type": "stream",
          "name": "stdout",
          "text": [
            "origin\n"
          ]
        }
      ]
    },
    {
      "cell_type": "code",
      "source": [
        "!git push -u origin main"
      ],
      "metadata": {
        "colab": {
          "base_uri": "https://localhost:8080/"
        },
        "id": "0K45jTauFWj2",
        "outputId": "312c724a-5be5-49b4-b46f-7002c5009302"
      },
      "execution_count": null,
      "outputs": [
        {
          "output_type": "stream",
          "name": "stdout",
          "text": [
            "Enumerating objects: 28, done.\n",
            "Counting objects:   3% (1/28)\rCounting objects:   7% (2/28)\rCounting objects:  10% (3/28)\rCounting objects:  14% (4/28)\rCounting objects:  17% (5/28)\rCounting objects:  21% (6/28)\rCounting objects:  25% (7/28)\rCounting objects:  28% (8/28)\rCounting objects:  32% (9/28)\rCounting objects:  35% (10/28)\rCounting objects:  39% (11/28)\rCounting objects:  42% (12/28)\rCounting objects:  46% (13/28)\rCounting objects:  50% (14/28)\rCounting objects:  53% (15/28)\rCounting objects:  57% (16/28)\rCounting objects:  60% (17/28)\rCounting objects:  64% (18/28)\rCounting objects:  67% (19/28)\rCounting objects:  71% (20/28)\rCounting objects:  75% (21/28)\rCounting objects:  78% (22/28)\rCounting objects:  82% (23/28)\rCounting objects:  85% (24/28)\rCounting objects:  89% (25/28)\rCounting objects:  92% (26/28)\rCounting objects:  96% (27/28)\rCounting objects: 100% (28/28)\rCounting objects: 100% (28/28), done.\n",
            "Delta compression using up to 2 threads\n",
            "Compressing objects: 100% (21/21), done.\n",
            "Writing objects: 100% (28/28), 8.42 MiB | 1.55 MiB/s, done.\n",
            "Total 28 (delta 5), reused 0 (delta 0), pack-reused 0\n",
            "remote: Resolving deltas: 100% (5/5), done.\u001b[K\n",
            "To https://github.com/Mikolaj613/Kurs-Ai.git\n",
            " * [new branch]      main -> main\n",
            "Branch 'main' set up to track remote branch 'main' from 'origin'.\n"
          ]
        }
      ]
    },
    {
      "cell_type": "code",
      "source": [
        "!git pull"
      ],
      "metadata": {
        "colab": {
          "base_uri": "https://localhost:8080/"
        },
        "id": "NwIWtQ8PGhV0",
        "outputId": "ea101809-acee-4e9c-d142-73b7d4dcc0ce"
      },
      "execution_count": null,
      "outputs": [
        {
          "output_type": "stream",
          "name": "stdout",
          "text": [
            "remote: Enumerating objects: 4, done.\u001b[K\n",
            "remote: Counting objects:  25% (1/4)\u001b[K\rremote: Counting objects:  50% (2/4)\u001b[K\rremote: Counting objects:  75% (3/4)\u001b[K\rremote: Counting objects: 100% (4/4)\u001b[K\rremote: Counting objects: 100% (4/4), done.\u001b[K\n",
            "remote: Compressing objects:  50% (1/2)\u001b[K\rremote: Compressing objects: 100% (2/2)\u001b[K\rremote: Compressing objects: 100% (2/2), done.\u001b[K\n",
            "remote: Total 3 (delta 0), reused 0 (delta 0), pack-reused 0 (from 0)\u001b[K\n",
            "Unpacking objects:  33% (1/3)\rUnpacking objects:  66% (2/3)\rUnpacking objects: 100% (3/3)\rUnpacking objects: 100% (3/3), 962 bytes | 962.00 KiB/s, done.\n",
            "From https://github.com/Mikolaj613/Kurs-Ai\n",
            "   5bc3a68..999d427  main       -> origin/main\n",
            "Updating 5bc3a68..999d427\n",
            "Fast-forward\n",
            " README.md | 1 \u001b[32m+\u001b[m\n",
            " 1 file changed, 1 insertion(+)\n",
            " create mode 100644 README.md\n"
          ]
        }
      ]
    },
    {
      "cell_type": "code",
      "source": [
        "!git log"
      ],
      "metadata": {
        "colab": {
          "base_uri": "https://localhost:8080/"
        },
        "id": "XCVPDLxiGy15",
        "outputId": "27f89efa-64dd-489f-b0bc-dbd6923a66b1"
      },
      "execution_count": null,
      "outputs": [
        {
          "output_type": "stream",
          "name": "stdout",
          "text": [
            "\u001b[33mcommit 999d4273ed49b4451e47cf3182bbaa63b3672ef8\u001b[m\u001b[33m (\u001b[m\u001b[1;36mHEAD -> \u001b[m\u001b[1;32mmain\u001b[m\u001b[33m, \u001b[m\u001b[1;31morigin/main\u001b[m\u001b[33m)\u001b[m\n",
            "Author: Mikolaj613 <mikolaj.rodek@gmail.com>\n",
            "Date:   Sat Feb 22 10:59:57 2025 +0100\n",
            "\n",
            "    Create README.md\n",
            "\n",
            "\u001b[33mcommit 5bc3a68c4acba7b4d052f4b646e0cf570dc08438\u001b[m\n",
            "Author: Mikołaj <mikolaj.rodek@gmail.com>\n",
            "Date:   Sat Feb 22 09:48:38 2025 +0000\n",
            "\n",
            "    inicjalizacja projektu\n"
          ]
        }
      ]
    },
    {
      "cell_type": "markdown",
      "source": [
        "## Zmienne"
      ],
      "metadata": {
        "id": "bfxvDLg7IigN"
      }
    },
    {
      "cell_type": "code",
      "source": [
        "liczba = 0\n",
        "zmiennaprzecinkowa = 7,9\n",
        "napis = \"tekst\"\n",
        "logiczna = False\n",
        "\n",
        "print(f\"liczba:{liczba},zmiennaprzecinkowa: {zmiennaprzecinkowa},napis: {napis},logiczna: {logiczna}\")\n",
        "print(f\"zmienna liczba jest typu: {type(liczba)}\")\n"
      ],
      "metadata": {
        "id": "6H5VdNqxIvWB",
        "colab": {
          "base_uri": "https://localhost:8080/"
        },
        "outputId": "eadeca5a-3229-4226-b503-3fb6e75f11c6"
      },
      "execution_count": 5,
      "outputs": [
        {
          "output_type": "stream",
          "name": "stdout",
          "text": [
            "liczba:0,zmiennaprzecinkowa: (7, 9),napis: tekst,logiczna: False\n",
            "zmienna liczba jest typu: <class 'int'>\n"
          ]
        }
      ]
    },
    {
      "cell_type": "markdown",
      "source": [
        "## Listy"
      ],
      "metadata": {
        "id": "WH5Mty07IvjZ"
      }
    },
    {
      "cell_type": "code",
      "source": [
        "gry = [\"fortnite\", \"roblox\", \"minecraft\"]\n",
        "listamieszana = [\"minecrfat\",3,2.2,True]\n",
        "\n",
        "print(f\"pierwszy element to :{gry[0]}\")\n",
        "\n",
        "gry.append(\"cs\")"
      ],
      "metadata": {
        "id": "KgzhEjplIzQ8",
        "colab": {
          "base_uri": "https://localhost:8080/"
        },
        "outputId": "9b763008-f90d-4c5b-a54e-03fc7f3b21ad"
      },
      "execution_count": 6,
      "outputs": [
        {
          "output_type": "stream",
          "name": "stdout",
          "text": [
            "pierwszy element to :fortnite\n"
          ]
        }
      ]
    },
    {
      "cell_type": "markdown",
      "source": [
        "## Pętle"
      ],
      "metadata": {
        "id": "y6s-A6nEI5oB"
      }
    },
    {
      "cell_type": "code",
      "source": [
        "licznik = 0\n",
        "\n",
        "print = \"while liczaca do 5\"\n",
        "while licznik <=5:\n",
        "  print(licznik)\n",
        "  licznik += 1"
      ],
      "metadata": {
        "id": "AF7rW9lyI8gb"
      },
      "execution_count": null,
      "outputs": []
    },
    {
      "cell_type": "code",
      "source": [
        "for gra in gry:\n",
        "  print(gra)\n"
      ],
      "metadata": {
        "colab": {
          "base_uri": "https://localhost:8080/"
        },
        "id": "Ma_M350w9ymm",
        "outputId": "4e1e8742-ffde-4680-f5ed-234da8301d74"
      },
      "execution_count": 7,
      "outputs": [
        {
          "output_type": "stream",
          "name": "stdout",
          "text": [
            "fortnite\n",
            "roblox\n",
            "minecraft\n",
            "cs\n"
          ]
        }
      ]
    },
    {
      "cell_type": "code",
      "source": [
        "r= list(range(6))\n",
        "print(r)\n",
        "\n",
        "r2= list(range(2,6))\n",
        "print(r2)\n",
        "\n",
        "r3= list(range(2,6,2))\n",
        "print(r3)"
      ],
      "metadata": {
        "colab": {
          "base_uri": "https://localhost:8080/"
        },
        "id": "13RgXXQM9_rA",
        "outputId": "262b23f7-0a4a-41b8-c13b-2cc8983500e0"
      },
      "execution_count": 8,
      "outputs": [
        {
          "output_type": "stream",
          "name": "stdout",
          "text": [
            "[0, 1, 2, 3, 4, 5]\n",
            "[2, 3, 4, 5]\n",
            "[2, 4]\n"
          ]
        }
      ]
    },
    {
      "cell_type": "code",
      "source": [
        "for i in range(2,6):\n",
        "  print(i)"
      ],
      "metadata": {
        "colab": {
          "base_uri": "https://localhost:8080/"
        },
        "id": "PTqZCI6Z-NGL",
        "outputId": "5170cdb4-3a5c-4a70-e8d2-a1a66428f485"
      },
      "execution_count": 9,
      "outputs": [
        {
          "output_type": "stream",
          "name": "stdout",
          "text": [
            "2\n",
            "3\n",
            "4\n",
            "5\n"
          ]
        }
      ]
    },
    {
      "cell_type": "markdown",
      "source": [
        "## Słowniki i krotki"
      ],
      "metadata": {
        "id": "VWf8utSLI8xx"
      }
    },
    {
      "cell_type": "code",
      "source": [
        "slownik = {\n",
        "    \"kot\":\"cat\",\n",
        "    \"pies\":\"dog\",\n",
        "    \"waz\":\"snake\"\n",
        "}\n",
        "\n",
        "print(slownik[\"kot\"])\n",
        "\n",
        "for key in slownik.keys():\n",
        "  print(key)\n",
        "\n",
        "for value in slownik.values():\n",
        "  print(value)"
      ],
      "metadata": {
        "id": "OirE9PF3JCXf",
        "colab": {
          "base_uri": "https://localhost:8080/"
        },
        "outputId": "efed1d16-007b-4d31-d026-bc8d811139c8"
      },
      "execution_count": 10,
      "outputs": [
        {
          "output_type": "stream",
          "name": "stdout",
          "text": [
            "cat\n",
            "kot\n",
            "pies\n",
            "waz\n",
            "cat\n",
            "dog\n",
            "snake\n"
          ]
        }
      ]
    },
    {
      "cell_type": "code",
      "source": [
        "#krotka!\n",
        "wspolrzedne = (2,7)\n",
        "print(f\"pirwsze wspołrzędna: {wspolrzedne[0]}, druga : {wspolrzedne[1]}\")"
      ],
      "metadata": {
        "colab": {
          "base_uri": "https://localhost:8080/"
        },
        "id": "pfyzX8Ki_TDt",
        "outputId": "dc69249f-6950-45c5-8f5c-52a8f4a9101a"
      },
      "execution_count": 12,
      "outputs": [
        {
          "output_type": "stream",
          "name": "stdout",
          "text": [
            "pirwsze wspołrzędna: 2, druga : 7\n"
          ]
        }
      ]
    },
    {
      "cell_type": "markdown",
      "source": [
        "## instrukcje warunkowe"
      ],
      "metadata": {
        "id": "tSoCQcDxJH6Z"
      }
    },
    {
      "cell_type": "code",
      "source": [
        "temperatura = float(input(\"podaj temperature: \"))\n",
        "\n",
        "if temperatura <20:\n",
        "  print(\"powyzszam temp\")\n",
        "elif temperatura > 25:\n",
        "  print(\"obnizam temp\")\n",
        "else:\n",
        "  print(\"temp w normie\")"
      ],
      "metadata": {
        "id": "o3knAtRLJK18"
      },
      "execution_count": null,
      "outputs": []
    },
    {
      "cell_type": "markdown",
      "source": [
        "## Funkcje"
      ],
      "metadata": {
        "id": "meNZVyxrJLy5"
      }
    },
    {
      "cell_type": "code",
      "source": [
        "def dodawanie(a,b):\n",
        "  return a+b\n",
        "\n",
        "print(dodawanie(2,3))"
      ],
      "metadata": {
        "id": "XGcg3sITJQCw",
        "colab": {
          "base_uri": "https://localhost:8080/"
        },
        "outputId": "d4b3e577-984c-4a67-efde-54f2bd8faa23"
      },
      "execution_count": 13,
      "outputs": [
        {
          "output_type": "stream",
          "name": "stdout",
          "text": [
            "5\n"
          ]
        }
      ]
    },
    {
      "cell_type": "code",
      "source": [
        "def dodawanie(a,b=5):\n",
        "  return a+b\n",
        "\n",
        "print(dodawanie(2,5))\n",
        "print(dodawanie(2,7))"
      ],
      "metadata": {
        "colab": {
          "base_uri": "https://localhost:8080/"
        },
        "id": "nc3a0_n4CAY4",
        "outputId": "5c32f07c-71e8-4894-bbcc-054ffd34c9c6"
      },
      "execution_count": 16,
      "outputs": [
        {
          "output_type": "stream",
          "name": "stdout",
          "text": [
            "7\n",
            "9\n"
          ]
        }
      ]
    },
    {
      "cell_type": "code",
      "source": [
        "def operacja(a,b):\n",
        "  return 2*a+b\n",
        "\n",
        "print(operacja(b=3,a=1))\n",
        "print(operacja(a=3,b=1))"
      ],
      "metadata": {
        "colab": {
          "base_uri": "https://localhost:8080/"
        },
        "id": "CzBnKfQnCRi3",
        "outputId": "7526d6ad-2a72-4746-d64c-c33a5b923259"
      },
      "execution_count": 17,
      "outputs": [
        {
          "output_type": "stream",
          "name": "stdout",
          "text": [
            "5\n",
            "7\n"
          ]
        }
      ]
    },
    {
      "cell_type": "markdown",
      "source": [
        "## Obsługa plików"
      ],
      "metadata": {
        "id": "_lG0L9XdJQYr"
      }
    },
    {
      "cell_type": "code",
      "source": [
        "# odczytywanie wartosci pliku\n",
        "#open()-otwieranie\n",
        "#r-(read) odczyt\n",
        "#w-(write) zapis\n",
        "#a-(append) dopisywanie\n",
        "#close()-zamykanie\n",
        "\n",
        "with open (\"dane.txt\",\"r\") as file:\n",
        "  for line in file:\n",
        "    print(line)"
      ],
      "metadata": {
        "id": "-xtU3CLNJWvQ",
        "colab": {
          "base_uri": "https://localhost:8080/"
        },
        "outputId": "e4da101f-acc9-425b-ea12-a667961bc2c5"
      },
      "execution_count": 19,
      "outputs": [
        {
          "output_type": "stream",
          "name": "stdout",
          "text": [
            "Minecraft\n",
            "\n",
            "cs\n",
            "\n",
            "Fortnite\n"
          ]
        }
      ]
    },
    {
      "cell_type": "code",
      "source": [
        "with open(\"dane.txt\",\"a\") as file:\n",
        "  file.write(\"\\nLua\")"
      ],
      "metadata": {
        "id": "oR0_P7hHEUEN"
      },
      "execution_count": 22,
      "outputs": []
    },
    {
      "cell_type": "code",
      "source": [
        "with open('dane2.txt','w') as file:\n",
        "  file.write('placki')"
      ],
      "metadata": {
        "id": "ymktsAIsFFtB"
      },
      "execution_count": 24,
      "outputs": []
    },
    {
      "cell_type": "markdown",
      "source": [
        "## Obsługa wyjątków"
      ],
      "metadata": {
        "id": "1iTbqQXmJXGg"
      }
    },
    {
      "cell_type": "code",
      "source": [
        "try:\n",
        "  dzielna = float(input(\"dzielna:\"))\n",
        "  dzielnik = float(input(\"dzielnik:\"))\n",
        "  wynik = dzielna/dzielnik\n",
        "except Exception as e:\n",
        "  print(f\"bład o treści:{e}\")"
      ],
      "metadata": {
        "id": "Mv2IrPFoJYW2",
        "colab": {
          "base_uri": "https://localhost:8080/"
        },
        "outputId": "57832f85-79b0-4ba4-ad77-cb64d4ed035e"
      },
      "execution_count": 27,
      "outputs": [
        {
          "output_type": "stream",
          "name": "stdout",
          "text": [
            "dzielna:1\n",
            "dzielnik:0\n",
            "bład o treści:float division by zero\n"
          ]
        }
      ]
    }
  ]
}