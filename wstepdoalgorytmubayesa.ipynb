{
  "nbformat": 4,
  "nbformat_minor": 0,
  "metadata": {
    "colab": {
      "provenance": [],
      "authorship_tag": "ABX9TyMB52+7/oqdrHUpxbFui++h",
      "include_colab_link": true
    },
    "kernelspec": {
      "name": "python3",
      "display_name": "Python 3"
    },
    "language_info": {
      "name": "python"
    }
  },
  "cells": [
    {
      "cell_type": "markdown",
      "metadata": {
        "id": "view-in-github",
        "colab_type": "text"
      },
      "source": [
        "<a href=\"https://colab.research.google.com/github/Mikolaj613/Kurs-Ai/blob/main/wstepdoalgorytmubayesa.ipynb\" target=\"_parent\"><img src=\"https://colab.research.google.com/assets/colab-badge.svg\" alt=\"Open In Colab\"/></a>"
      ]
    },
    {
      "cell_type": "code",
      "execution_count": 12,
      "metadata": {
        "colab": {
          "base_uri": "https://localhost:8080/"
        },
        "id": "kesQLdLifrLO",
        "outputId": "55ce67e6-838e-4c89-a440-5490a55983ab"
      },
      "outputs": [
        {
          "output_type": "stream",
          "name": "stdout",
          "text": [
            "liczba rekordów: 300\n",
            "liczba unikalnych gier: 5\n",
            "liczba wpisów dla każdej z gier:\n",
            "minecraft: 60\n",
            "fortnite: 60\n",
            "roblox: 60\n",
            "lol: 60\n",
            "cs: 60\n",
            "liczba tagów: 74\n",
            "liczba tagów występujących tylko raz: 25\n",
            "liczba tagów występujących więcej niż raz: 49\n",
            "20 najczestszych tagow:\n",
            "roleplay: 50\n",
            "crafting: 49\n",
            "budowanie: 48\n",
            "klocki: 46\n",
            "sezon: 46\n",
            "emotki: 46\n",
            "loot: 44\n",
            "rankedy: 44\n",
            "kopanie: 43\n",
            "oddziały: 43\n",
            "karabin: 41\n",
            "arena: 41\n",
            "pistolet: 40\n",
            "waluta: 40\n",
            "questy: 39\n",
            "fortyfikacje: 39\n",
            "symulator: 39\n",
            "aktualizacja: 39\n",
            "kolekcje: 38\n",
            "tryb solo: 38\n"
          ]
        }
      ],
      "source": [
        "import json\n",
        "from pprint import pprint\n",
        "\n",
        "data = None\n",
        "with open(\"tagi_gier_wspoldzielone.json\", encoding=\"utf-8\") as f:\n",
        "  data = json.load(f)\n",
        "\n",
        "#charakterystyka gier\n",
        "label_count = {}\n",
        "for game in data:\n",
        "  label = game[\"label\"]\n",
        "  if label not in label_count:\n",
        "    label_count[label] = 0\n",
        "  label_count[label] += 1\n",
        "  pass\n",
        "\n",
        "print(f\"liczba rekordów: {len(data)}\")\n",
        "print(f\"liczba unikalnych gier: {len(label_count)}\")\n",
        "print(f\"liczba wpisów dla każdej z gier:\")\n",
        "for label in label_count:\n",
        "  print(f\"{label}: {label_count[label]}\")\n",
        "\n",
        "#charakterystyka tagów\n",
        "tag_count = {}\n",
        "tag_to_labels = {}\n",
        "for game in data:\n",
        "  label = game[\"label\"]\n",
        "  for tag in game[\"tags\"]:\n",
        "    if tag not in tag_count:\n",
        "      tag_count[tag] = 0\n",
        "    tag_count[tag] += 1\n",
        "\n",
        "    if tag not in tag_to_labels:\n",
        "      tag_to_labels[tag] = []\n",
        "    if label not in tag_to_labels[tag]:\n",
        "      tag_to_labels[tag].append(game[\"label\"])\n",
        "\n",
        "    pass\n",
        "\n",
        "only_one = 0\n",
        "multiple = 0\n",
        "for tag in tag_to_labels:\n",
        "  label_total = len(tag_to_labels[tag])\n",
        "  if label_total == 1:\n",
        "    only_one += 1\n",
        "  else:\n",
        "    multiple += 1\n",
        "  pass\n",
        "\n",
        "print(f\"liczba tagów: {len(tag_count)}\")\n",
        "print(f\"liczba tagów występujących tylko raz: {only_one}\")\n",
        "print(f\"liczba tagów występujących więcej niż raz: {multiple}\")\n",
        "\n",
        "print(\"20 najczestszych tagow:\")\n",
        "sorted_tags = sorted(tag_count.items(), key=lambda x: x[1], reverse=True)\n",
        "for tag in sorted_tags[:20]:\n",
        "  print(f\"{tag[0]}: {tag[1]}\")"
      ]
    },
    {
      "cell_type": "code",
      "source": [
        "import json,random,math\n",
        "def load_data(path):\n",
        "  with open(path, encoding=\"utf-8\") as f:\n",
        "     return json.load(f)\n",
        "\n",
        "def train_test_split(data, test_size = 0.2):\n",
        "  random.shuffle(data)\n",
        "  cut = int(len(data) *(1-test_size))\n",
        "  print(f\"liczba rekordow w treningowym zbiorze: {len(data[:cut])}\")\n",
        "  print(f\"liczba rekordow w testowym zbiorze: {len(data[cut])}\")\n",
        "  return data[cut:], data[:cut]\n",
        "  pass\n",
        "\n",
        "  def build_vocubulary(train):\n",
        "    vocab = set()\n",
        "    for game in train:\n",
        "      vocab.update(game[\"tags\"])\n",
        "    return vocab\n",
        "    pass"
      ],
      "metadata": {
        "id": "bwrTU5YIrANh"
      },
      "execution_count": 16,
      "outputs": []
    },
    {
      "cell_type": "code",
      "source": [
        "def main():\n",
        "  path = \"tagi_gier_wspoldzielone.json\"\n",
        "  data = load_data(path)\n",
        "  train, test = train_test_split(data)\n",
        "  vocab = build_vocubulary(train)\n",
        "  print(vocab)\n",
        "  pass\n",
        "\n",
        "if __name__ == \"__main__\":\n",
        "  main()"
      ],
      "metadata": {
        "colab": {
          "base_uri": "https://localhost:8080/",
          "height": 332
        },
        "id": "yaHTH7cFrDRi",
        "outputId": "65808f45-2f1b-4f45-cc27-c91190a33a05"
      },
      "execution_count": 17,
      "outputs": [
        {
          "output_type": "stream",
          "name": "stdout",
          "text": [
            "liczba rekordow w treningowym zbiorze: 240\n",
            "liczba rekordow w testowym zbiorze: 2\n"
          ]
        },
        {
          "output_type": "error",
          "ename": "NameError",
          "evalue": "name 'build_vocubulary' is not defined",
          "traceback": [
            "\u001b[0;31m---------------------------------------------------------------------------\u001b[0m",
            "\u001b[0;31mNameError\u001b[0m                                 Traceback (most recent call last)",
            "\u001b[0;32m<ipython-input-17-52502d6b233e>\u001b[0m in \u001b[0;36m<cell line: 0>\u001b[0;34m()\u001b[0m\n\u001b[1;32m      8\u001b[0m \u001b[0;34m\u001b[0m\u001b[0m\n\u001b[1;32m      9\u001b[0m \u001b[0;32mif\u001b[0m \u001b[0m__name__\u001b[0m \u001b[0;34m==\u001b[0m \u001b[0;34m\"__main__\"\u001b[0m\u001b[0;34m:\u001b[0m\u001b[0;34m\u001b[0m\u001b[0;34m\u001b[0m\u001b[0m\n\u001b[0;32m---> 10\u001b[0;31m   \u001b[0mmain\u001b[0m\u001b[0;34m(\u001b[0m\u001b[0;34m)\u001b[0m\u001b[0;34m\u001b[0m\u001b[0;34m\u001b[0m\u001b[0m\n\u001b[0m",
            "\u001b[0;32m<ipython-input-17-52502d6b233e>\u001b[0m in \u001b[0;36mmain\u001b[0;34m()\u001b[0m\n\u001b[1;32m      3\u001b[0m   \u001b[0mdata\u001b[0m \u001b[0;34m=\u001b[0m \u001b[0mload_data\u001b[0m\u001b[0;34m(\u001b[0m\u001b[0mpath\u001b[0m\u001b[0;34m)\u001b[0m\u001b[0;34m\u001b[0m\u001b[0;34m\u001b[0m\u001b[0m\n\u001b[1;32m      4\u001b[0m   \u001b[0mtrain\u001b[0m\u001b[0;34m,\u001b[0m \u001b[0mtest\u001b[0m \u001b[0;34m=\u001b[0m \u001b[0mtrain_test_split\u001b[0m\u001b[0;34m(\u001b[0m\u001b[0mdata\u001b[0m\u001b[0;34m)\u001b[0m\u001b[0;34m\u001b[0m\u001b[0;34m\u001b[0m\u001b[0m\n\u001b[0;32m----> 5\u001b[0;31m   \u001b[0mvocab\u001b[0m \u001b[0;34m=\u001b[0m \u001b[0mbuild_vocubulary\u001b[0m\u001b[0;34m(\u001b[0m\u001b[0mtrain\u001b[0m\u001b[0;34m)\u001b[0m\u001b[0;34m\u001b[0m\u001b[0;34m\u001b[0m\u001b[0m\n\u001b[0m\u001b[1;32m      6\u001b[0m   \u001b[0mprint\u001b[0m\u001b[0;34m(\u001b[0m\u001b[0mvocab\u001b[0m\u001b[0;34m)\u001b[0m\u001b[0;34m\u001b[0m\u001b[0;34m\u001b[0m\u001b[0m\n\u001b[1;32m      7\u001b[0m   \u001b[0;32mpass\u001b[0m\u001b[0;34m\u001b[0m\u001b[0;34m\u001b[0m\u001b[0m\n",
            "\u001b[0;31mNameError\u001b[0m: name 'build_vocubulary' is not defined"
          ]
        }
      ]
    }
  ]
}