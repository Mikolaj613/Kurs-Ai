{
  "nbformat": 4,
  "nbformat_minor": 0,
  "metadata": {
    "colab": {
      "provenance": [],
      "authorship_tag": "ABX9TyMs6eNzTJ+hphTpDdTHMoxS",
      "include_colab_link": true
    },
    "kernelspec": {
      "name": "python3",
      "display_name": "Python 3"
    },
    "language_info": {
      "name": "python"
    }
  },
  "cells": [
    {
      "cell_type": "markdown",
      "metadata": {
        "id": "view-in-github",
        "colab_type": "text"
      },
      "source": [
        "<a href=\"https://colab.research.google.com/github/Mikolaj613/Kurs-Ai/blob/main/3_Biblioteka_matplotlib.ipynb\" target=\"_parent\"><img src=\"https://colab.research.google.com/assets/colab-badge.svg\" alt=\"Open In Colab\"/></a>"
      ]
    },
    {
      "cell_type": "code",
      "execution_count": 1,
      "metadata": {
        "colab": {
          "base_uri": "https://localhost:8080/"
        },
        "id": "wH8E0o-hOQMW",
        "outputId": "ba6fe0ea-2277-40b5-ca85-d3a5a70587e4"
      },
      "outputs": [
        {
          "output_type": "stream",
          "name": "stdout",
          "text": [
            "the dust 2\n",
            "Summoner's Rift\n",
            "you have bought a gun\n",
            "You have bought an Ardent Censer\n"
          ]
        }
      ],
      "source": [
        "import cs\n",
        "import lol\n",
        "\n",
        "\n",
        "cs.map_name()\n",
        "lol.map_name()\n",
        "cs.buy_gun()\n",
        "lol.buy_ardent()"
      ]
    },
    {
      "cell_type": "code",
      "source": [
        "from cs import *\n",
        "from lol import *\n",
        "\n",
        "map_name()"
      ],
      "metadata": {
        "colab": {
          "base_uri": "https://localhost:8080/"
        },
        "id": "0TsAJMenQree",
        "outputId": "f4b8780f-266a-4e06-b7de-809a9823b0a9"
      },
      "execution_count": 2,
      "outputs": [
        {
          "output_type": "stream",
          "name": "stdout",
          "text": [
            "Summoner's Rift\n"
          ]
        }
      ]
    },
    {
      "cell_type": "code",
      "source": [
        "from lol import *\n",
        "from cs import *\n",
        "#nadpisuje lol wiec mapa z cs\n",
        "map_name()"
      ],
      "metadata": {
        "colab": {
          "base_uri": "https://localhost:8080/"
        },
        "id": "2jF5LA_FRKjP",
        "outputId": "0bc1e215-c60f-4fbb-e4b9-0dc76e7b5adb"
      },
      "execution_count": 3,
      "outputs": [
        {
          "output_type": "stream",
          "name": "stdout",
          "text": [
            "the dust 2\n"
          ]
        }
      ]
    },
    {
      "cell_type": "code",
      "source": [
        "from lol import buy_ardent\n",
        "from cs import map_name,buy_gun\n",
        "# map name tylko z cs bo importujemy to tylko z cs\n",
        "map_name()\n",
        "buy_ardent()\n",
        "buy_gun()"
      ],
      "metadata": {
        "colab": {
          "base_uri": "https://localhost:8080/"
        },
        "id": "h1yACCvPR0TP",
        "outputId": "6d30350f-c60c-412e-e0c3-d2ce4c7b5929"
      },
      "execution_count": 4,
      "outputs": [
        {
          "output_type": "stream",
          "name": "stdout",
          "text": [
            "the dust 2\n",
            "You have bought an Ardent Censer\n",
            "you have bought a gun\n"
          ]
        }
      ]
    },
    {
      "cell_type": "code",
      "source": [
        "from lol import map_name as lol_map\n",
        "from cs import map_name as cs_map\n",
        "\n",
        "cs_map()\n",
        "lol_map()"
      ],
      "metadata": {
        "colab": {
          "base_uri": "https://localhost:8080/"
        },
        "id": "tjyfX3-MS_Kb",
        "outputId": "2a6de1fb-8fe3-4d76-c1b7-16fcfd23110c"
      },
      "execution_count": 6,
      "outputs": [
        {
          "output_type": "stream",
          "name": "stdout",
          "text": [
            "the dust 2\n",
            "Summoner's Rift\n"
          ]
        }
      ]
    },
    {
      "cell_type": "code",
      "source": [
        "!pip freeze | grep matplotlib"
      ],
      "metadata": {
        "colab": {
          "base_uri": "https://localhost:8080/"
        },
        "id": "ZWZDjTnsTs9z",
        "outputId": "cfbe66ab-04a6-4b80-fb52-3436684c97a7"
      },
      "execution_count": 7,
      "outputs": [
        {
          "output_type": "stream",
          "name": "stdout",
          "text": [
            "matplotlib==3.10.0\n",
            "matplotlib-inline==0.1.7\n",
            "matplotlib-venn==1.1.2\n"
          ]
        }
      ]
    }
  ]
}