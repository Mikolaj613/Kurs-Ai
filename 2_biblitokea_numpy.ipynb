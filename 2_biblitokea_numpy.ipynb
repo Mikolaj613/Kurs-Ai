{
  "nbformat": 4,
  "nbformat_minor": 0,
  "metadata": {
    "colab": {
      "provenance": [],
      "authorship_tag": "ABX9TyMJkez3N4RguHu/TuLAsbfF",
      "include_colab_link": true
    },
    "kernelspec": {
      "name": "python3",
      "display_name": "Python 3"
    },
    "language_info": {
      "name": "python"
    }
  },
  "cells": [
    {
      "cell_type": "markdown",
      "metadata": {
        "id": "view-in-github",
        "colab_type": "text"
      },
      "source": [
        "<a href=\"https://colab.research.google.com/github/Mikolaj613/Kurs-Ai/blob/main/2_biblitokea_numpy.ipynb\" target=\"_parent\"><img src=\"https://colab.research.google.com/assets/colab-badge.svg\" alt=\"Open In Colab\"/></a>"
      ]
    },
    {
      "cell_type": "code",
      "execution_count": 1,
      "metadata": {
        "colab": {
          "base_uri": "https://localhost:8080/"
        },
        "id": "OZKdYE_PJBvz",
        "outputId": "fcec8b59-88a4-45a4-8bc2-6d9247e4d953"
      },
      "outputs": [
        {
          "output_type": "stream",
          "name": "stdout",
          "text": [
            "python3: can't open file '/content/version': [Errno 2] No such file or directory\n"
          ]
        }
      ],
      "source": [
        "!python -- version"
      ]
    },
    {
      "cell_type": "code",
      "source": [
        "!pip freeze | grep numpy"
      ],
      "metadata": {
        "colab": {
          "base_uri": "https://localhost:8080/"
        },
        "id": "19Wfp291K96h",
        "outputId": "d8640864-5a4f-4bbe-bcb1-3b0fc13fe759"
      },
      "execution_count": 2,
      "outputs": [
        {
          "output_type": "stream",
          "name": "stdout",
          "text": [
            "numpy==1.26.4\n"
          ]
        }
      ]
    },
    {
      "cell_type": "code",
      "source": [
        "import numpy as np\n",
        "\n",
        "#tworzenie tablicy\n",
        "array = np.array([1,2,3,4,5,6,7,8,9,10,11,12])\n",
        "print(array)\n",
        "print(f\"Kształt tablicy: {np.shape(array)}\")\n",
        "\n",
        "array2x6 = array.reshape(2,6)\n",
        "print(\"Array 2x6\")\n",
        "print(array2x6)\n",
        "print(f\"Array 2x6 - kształt {np.shape(array2x6)}\")"
      ],
      "metadata": {
        "colab": {
          "base_uri": "https://localhost:8080/"
        },
        "id": "gS2Vn0d7MJtG",
        "outputId": "9c567c8f-0d4d-4cf1-84af-c80954742df2"
      },
      "execution_count": 4,
      "outputs": [
        {
          "output_type": "stream",
          "name": "stdout",
          "text": [
            "[ 1  2  3  4  5  6  7  8  9 10 11 12]\n",
            "Kształt tablicy: (12,)\n",
            "Array 2x6\n",
            "[[ 1  2  3  4  5  6]\n",
            " [ 7  8  9 10 11 12]]\n",
            "Array 2x6 - kształt (2, 6)\n"
          ]
        }
      ]
    },
    {
      "cell_type": "code",
      "source": [
        "\n",
        "print(array)\n",
        "print(f\"Kształt tablicy: {np.shape(array)}\")\n",
        "\n",
        "array3x4 = array.reshape(3,4)\n",
        "print(\"Array 3x4\")\n",
        "print(array3x4)\n",
        "print(f\"Array 3x4 - kształt {np.shape(array3x4)}\")"
      ],
      "metadata": {
        "colab": {
          "base_uri": "https://localhost:8080/"
        },
        "id": "R9yuUPKbNu8n",
        "outputId": "81feb917-f2db-44f4-f66c-f903e302147b"
      },
      "execution_count": 5,
      "outputs": [
        {
          "output_type": "stream",
          "name": "stdout",
          "text": [
            "[ 1  2  3  4  5  6  7  8  9 10 11 12]\n",
            "Kształt tablicy: (12,)\n",
            "Array 3x4\n",
            "[[ 1  2  3  4]\n",
            " [ 5  6  7  8]\n",
            " [ 9 10 11 12]]\n",
            "Array 3x4 - kształt (3, 4)\n"
          ]
        }
      ]
    },
    {
      "cell_type": "code",
      "source": [
        "array2x2x3 = array.reshape(2,2,3)\n",
        "print(array2x2x3)"
      ],
      "metadata": {
        "colab": {
          "base_uri": "https://localhost:8080/"
        },
        "id": "7zGP58g-Ob6V",
        "outputId": "c941d241-ef26-486a-adfc-7a3ff8bb8983"
      },
      "execution_count": 9,
      "outputs": [
        {
          "output_type": "stream",
          "name": "stdout",
          "text": [
            "[[[ 1  2  3]\n",
            "  [ 4  5  6]]\n",
            "\n",
            " [[ 7  8  9]\n",
            "  [10 11 12]]]\n"
          ]
        }
      ]
    },
    {
      "cell_type": "code",
      "source": [
        "unsorted1D = np.array([3,6,2,4])\n",
        "print(unsorted1D)\n",
        "sorted1D = np.sort(unsorted1D)\n",
        "print(sorted1D)"
      ],
      "metadata": {
        "colab": {
          "base_uri": "https://localhost:8080/"
        },
        "id": "KeiF-80-P4Ju",
        "outputId": "03392aca-daec-418e-b152-6c18bdfdef69"
      },
      "execution_count": 10,
      "outputs": [
        {
          "output_type": "stream",
          "name": "stdout",
          "text": [
            "[3 6 2 4]\n",
            "[2 3 4 6]\n"
          ]
        }
      ]
    },
    {
      "cell_type": "code",
      "source": [
        "unsorted2D = np.array([[7,2,9],\n",
        "                       [4,8,1],\n",
        "                       [5,6,3]])\n",
        "print(unsorted2D)\n",
        "\n",
        "sorted2D_axis0 = np.sort(unsorted2D,axis=0)\n",
        "print(f\"tablica posortowania oś 0:\\n{sorted2D_axis0}\")\n",
        "\n",
        "sorted2D_axis1 = np.sort(unsorted2D,axis=1)\n",
        "print(f\"tablica posortowania oś 1:\\n{sorted2D_axis1}\")"
      ],
      "metadata": {
        "colab": {
          "base_uri": "https://localhost:8080/"
        },
        "id": "0GCuifQJQd5P",
        "outputId": "93ad909e-21ed-4536-bc5a-811ef7b5a816"
      },
      "execution_count": 11,
      "outputs": [
        {
          "output_type": "stream",
          "name": "stdout",
          "text": [
            "[[7 2 9]\n",
            " [4 8 1]\n",
            " [5 6 3]]\n",
            "tablica posortowania oś 0:\n",
            "[[4 2 1]\n",
            " [5 6 3]\n",
            " [7 8 9]]\n",
            "tablica posortowania oś 1:\n",
            "[[2 7 9]\n",
            " [1 4 8]\n",
            " [3 5 6]]\n"
          ]
        }
      ]
    }
  ]
}