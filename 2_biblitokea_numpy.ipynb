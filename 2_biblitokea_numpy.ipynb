{
  "nbformat": 4,
  "nbformat_minor": 0,
  "metadata": {
    "colab": {
      "provenance": [],
      "authorship_tag": "ABX9TyOctsjQBPNhQKPWwsRVUxlY",
      "include_colab_link": true
    },
    "kernelspec": {
      "name": "python3",
      "display_name": "Python 3"
    },
    "language_info": {
      "name": "python"
    }
  },
  "cells": [
    {
      "cell_type": "markdown",
      "metadata": {
        "id": "view-in-github",
        "colab_type": "text"
      },
      "source": [
        "<a href=\"https://colab.research.google.com/github/Mikolaj613/Kurs-Ai/blob/main/2_biblitokea_numpy.ipynb\" target=\"_parent\"><img src=\"https://colab.research.google.com/assets/colab-badge.svg\" alt=\"Open In Colab\"/></a>"
      ]
    },
    {
      "cell_type": "code",
      "execution_count": null,
      "metadata": {
        "colab": {
          "base_uri": "https://localhost:8080/"
        },
        "id": "OZKdYE_PJBvz",
        "outputId": "fcec8b59-88a4-45a4-8bc2-6d9247e4d953"
      },
      "outputs": [
        {
          "output_type": "stream",
          "name": "stdout",
          "text": [
            "python3: can't open file '/content/version': [Errno 2] No such file or directory\n"
          ]
        }
      ],
      "source": [
        "!python -- version"
      ]
    },
    {
      "cell_type": "code",
      "source": [
        "!pip freeze | grep numpy"
      ],
      "metadata": {
        "colab": {
          "base_uri": "https://localhost:8080/"
        },
        "id": "19Wfp291K96h",
        "outputId": "09361d2c-d407-4ab5-f2d2-388ed01eea17"
      },
      "execution_count": 5,
      "outputs": [
        {
          "output_type": "stream",
          "name": "stdout",
          "text": [
            "numpy==1.26.4\n"
          ]
        }
      ]
    },
    {
      "cell_type": "code",
      "source": [
        "import numpy as np\n",
        "\n",
        "#tworzenie tablicy\n",
        "array = np.array([1,2,3,4,5,6,7,8,9,10,11,12])\n",
        "print(array)\n",
        "print(f\"Kształt tablicy: {np.shape(array)}\")\n",
        "\n",
        "array2x6 = array.reshape(2,6)\n",
        "print(\"Array 2x6\")\n",
        "print(array2x6)\n",
        "print(f\"Array 2x6 - kształt {np.shape(array2x6)}\")"
      ],
      "metadata": {
        "colab": {
          "base_uri": "https://localhost:8080/"
        },
        "id": "gS2Vn0d7MJtG",
        "outputId": "e16bed4b-bd9f-42a3-b49e-1d5dfdaddbdf"
      },
      "execution_count": 4,
      "outputs": [
        {
          "output_type": "stream",
          "name": "stdout",
          "text": [
            "[ 1  2  3  4  5  6  7  8  9 10 11 12]\n",
            "Kształt tablicy: (12,)\n",
            "Array 2x6\n",
            "[[ 1  2  3  4  5  6]\n",
            " [ 7  8  9 10 11 12]]\n",
            "Array 2x6 - kształt (2, 6)\n"
          ]
        }
      ]
    },
    {
      "cell_type": "code",
      "source": [
        "\n",
        "print(array)\n",
        "print(f\"Kształt tablicy: {np.shape(array)}\")\n",
        "\n",
        "array3x4 = array.reshape(3,4)\n",
        "print(\"Array 3x4\")\n",
        "print(array3x4)\n",
        "print(f\"Array 3x4 - kształt {np.shape(array3x4)}\")"
      ],
      "metadata": {
        "colab": {
          "base_uri": "https://localhost:8080/"
        },
        "id": "R9yuUPKbNu8n",
        "outputId": "8e70a693-a89f-43bb-b458-d351cc89b6c2"
      },
      "execution_count": 6,
      "outputs": [
        {
          "output_type": "stream",
          "name": "stdout",
          "text": [
            "[ 1  2  3  4  5  6  7  8  9 10 11 12]\n",
            "Kształt tablicy: (12,)\n",
            "Array 3x4\n",
            "[[ 1  2  3  4]\n",
            " [ 5  6  7  8]\n",
            " [ 9 10 11 12]]\n",
            "Array 3x4 - kształt (3, 4)\n"
          ]
        }
      ]
    },
    {
      "cell_type": "code",
      "source": [
        "array2x2x3 = array.reshape(2,2,3)\n",
        "print(array2x2x3)"
      ],
      "metadata": {
        "colab": {
          "base_uri": "https://localhost:8080/"
        },
        "id": "7zGP58g-Ob6V",
        "outputId": "8543464c-0e83-4056-a34d-7d4d7f17e8ad"
      },
      "execution_count": 7,
      "outputs": [
        {
          "output_type": "stream",
          "name": "stdout",
          "text": [
            "[[[ 1  2  3]\n",
            "  [ 4  5  6]]\n",
            "\n",
            " [[ 7  8  9]\n",
            "  [10 11 12]]]\n"
          ]
        }
      ]
    },
    {
      "cell_type": "code",
      "source": [
        "unsorted1D = np.array([3,6,2,4])\n",
        "print(unsorted1D)\n",
        "sorted1D = np.sort(unsorted1D)\n",
        "print(sorted1D)"
      ],
      "metadata": {
        "colab": {
          "base_uri": "https://localhost:8080/"
        },
        "id": "KeiF-80-P4Ju",
        "outputId": "7f50311e-1939-4fb7-fb11-09800f36a0a7"
      },
      "execution_count": 8,
      "outputs": [
        {
          "output_type": "stream",
          "name": "stdout",
          "text": [
            "[3 6 2 4]\n",
            "[2 3 4 6]\n"
          ]
        }
      ]
    },
    {
      "cell_type": "code",
      "source": [
        "unsorted2D = np.array([[7,2,9],\n",
        "                       [4,8,1],\n",
        "                       [5,6,3]])\n",
        "print(unsorted2D)\n",
        "\n",
        "sorted2D_axis0 = np.sort(unsorted2D,axis=0)\n",
        "print(f\"tablica posortowania oś 0:\\n{sorted2D_axis0}\")\n",
        "\n",
        "sorted2D_axis1 = np.sort(unsorted2D,axis=1)\n",
        "print(f\"tablica posortowania oś 1:\\n{sorted2D_axis1}\")"
      ],
      "metadata": {
        "colab": {
          "base_uri": "https://localhost:8080/"
        },
        "id": "0GCuifQJQd5P",
        "outputId": "10d3654f-18af-4cfe-a1b8-49fc927061c3"
      },
      "execution_count": 9,
      "outputs": [
        {
          "output_type": "stream",
          "name": "stdout",
          "text": [
            "[[7 2 9]\n",
            " [4 8 1]\n",
            " [5 6 3]]\n",
            "tablica posortowania oś 0:\n",
            "[[4 2 1]\n",
            " [5 6 3]\n",
            " [7 8 9]]\n",
            "tablica posortowania oś 1:\n",
            "[[2 7 9]\n",
            " [1 4 8]\n",
            " [3 5 6]]\n"
          ]
        }
      ]
    },
    {
      "cell_type": "code",
      "source": [
        "player_data = np.array([\n",
        "    (\"Faker\", \"T1\", 5),\n",
        "    (\"TheSky\", \"Weibo Gaming\", 1),\n",
        "    (\"Uzi\", \"Emerytowany\", 0)\n",
        "], dtype = [(\"Nick\", \"U30\"), (\"Team\", \"U30\"), (\"Worlds Title count\", \"i4\")])\n",
        "\n",
        "print(player_data)"
      ],
      "metadata": {
        "colab": {
          "base_uri": "https://localhost:8080/"
        },
        "id": "95vuSqDCBr5J",
        "outputId": "52c66cca-b063-445a-da40-25c5f7402224"
      },
      "execution_count": 10,
      "outputs": [
        {
          "output_type": "stream",
          "name": "stdout",
          "text": [
            "[('Faker', 'T1', 5) ('TheSky', 'Weibo Gaming', 1)\n",
            " ('Uzi', 'Emerytowany', 0)]\n"
          ]
        }
      ]
    },
    {
      "cell_type": "code",
      "source": [
        "# random\n",
        "from numpy import random\n",
        "\n",
        "for i in range (10):\n",
        "  print(random.randint(1,11))"
      ],
      "metadata": {
        "colab": {
          "base_uri": "https://localhost:8080/"
        },
        "id": "mVKeS6nPCRPL",
        "outputId": "ae347921-25a7-4b73-bd08-36647350722b"
      },
      "execution_count": 13,
      "outputs": [
        {
          "output_type": "stream",
          "name": "stdout",
          "text": [
            "4\n",
            "7\n",
            "1\n",
            "8\n",
            "6\n",
            "5\n",
            "9\n",
            "6\n",
            "10\n",
            "3\n"
          ]
        }
      ]
    },
    {
      "cell_type": "code",
      "source": [
        "lista = [1,2,3,4]\n",
        "\n",
        "print(random.choice(lista,3))"
      ],
      "metadata": {
        "colab": {
          "base_uri": "https://localhost:8080/"
        },
        "id": "EOUh562YDcbQ",
        "outputId": "50b9b6be-99bc-44e6-a70f-86a7d7a62bce"
      },
      "execution_count": 16,
      "outputs": [
        {
          "output_type": "stream",
          "name": "stdout",
          "text": [
            "[1 1 4]\n"
          ]
        }
      ]
    },
    {
      "cell_type": "code",
      "source": [
        "array1D = np.array([1,2,3,4,5,6,7,8,9])\n",
        "\n",
        "print(array1D[:5])\n",
        "\n",
        "print(array1D[2:5])\n",
        "\n",
        "print(array1D[-3:-1])"
      ],
      "metadata": {
        "colab": {
          "base_uri": "https://localhost:8080/"
        },
        "id": "w2sMHef6EN4q",
        "outputId": "35abaaa1-f993-4828-f3b1-2e960719ed03"
      },
      "execution_count": 19,
      "outputs": [
        {
          "output_type": "stream",
          "name": "stdout",
          "text": [
            "[1 2 3 4 5]\n",
            "[3 4 5]\n",
            "[7 8]\n"
          ]
        }
      ]
    },
    {
      "cell_type": "code",
      "source": [
        "array2D = np.array([\n",
        "    [1,2,3,4,5],\n",
        "    [6,7,8,9,10],\n",
        "    [11,12,13,14,15]\n",
        "])\n",
        "\n",
        "print(array2D[2,1])\n",
        "print(array2D[:,2:4])\n",
        "print(array2D[0:2,2:4])\n",
        "\n",
        "for i in np.nditer(array2D):\n",
        "  print(i)"
      ],
      "metadata": {
        "colab": {
          "base_uri": "https://localhost:8080/"
        },
        "id": "J-W2iMnZFUpn",
        "outputId": "9b693dc4-81d0-4623-e243-b70e3153078f"
      },
      "execution_count": 22,
      "outputs": [
        {
          "output_type": "stream",
          "name": "stdout",
          "text": [
            "12\n",
            "[[ 3  4]\n",
            " [ 8  9]\n",
            " [13 14]]\n",
            "[[3 4]\n",
            " [8 9]]\n",
            "1\n",
            "2\n",
            "3\n",
            "4\n",
            "5\n",
            "6\n",
            "7\n",
            "8\n",
            "9\n",
            "10\n",
            "11\n",
            "12\n",
            "13\n",
            "14\n",
            "15\n"
          ]
        }
      ]
    },
    {
      "cell_type": "code",
      "source": [
        "array2D = np.array([\n",
        "    [1,2,3,4,5],\n",
        "    [6,7,8,9,10],\n",
        "    [11,12,13,14,6]\n",
        "    ])\n",
        "\n",
        "result = np.where(array2D == 6)\n",
        "print(result)\n",
        "\n",
        "result = np.where(array2D == 6,1,0)\n",
        "print(result)\n",
        "\n",
        "result = np.where(array2D % 2 == 0,True,False)\n",
        "print(result)\n",
        "\n",
        "filtered = array2D[result]\n",
        "print(filtered)"
      ],
      "metadata": {
        "colab": {
          "base_uri": "https://localhost:8080/"
        },
        "id": "rALMDkUtG2VA",
        "outputId": "df9137ad-6ed3-4b08-d4ee-6b2b8fa2df85"
      },
      "execution_count": 25,
      "outputs": [
        {
          "output_type": "stream",
          "name": "stdout",
          "text": [
            "(array([1, 2]), array([0, 4]))\n",
            "[[0 0 0 0 0]\n",
            " [1 0 0 0 0]\n",
            " [0 0 0 0 1]]\n",
            "[[False  True False  True False]\n",
            " [ True False  True False  True]\n",
            " [False  True False  True  True]]\n",
            "[ 2  4  6  8 10 12 14  6]\n"
          ]
        }
      ]
    }
  ]
}